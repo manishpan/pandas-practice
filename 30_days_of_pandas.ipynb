{
 "cells": [
  {
   "cell_type": "markdown",
   "metadata": {},
   "source": [
    "### This notebook contains the solutions of leetcode`s 30 days of Pandas tutorial\n",
    "\n",
    "Link: https://leetcode.com/studyplan/30-days-of-pandas/"
   ]
  },
  {
   "cell_type": "markdown",
   "metadata": {},
   "source": [
    "## Data Filtering\n",
    "\n",
    "#### Q1. Day 1: 595. Big Countries\n",
    "\n",
    "- A country is big if:\n",
    "\n",
    "- it has an area of at least three million (i.e., 3000000 km2), or\n",
    "- it has a population of at least twenty-five million (i.e., 25000000).\n",
    "- Write a solution to find the name, population, and area of the big countries.\n",
    "\n",
    "- Return the result table in any order."
   ]
  },
  {
   "cell_type": "code",
   "execution_count": 60,
   "metadata": {},
   "outputs": [
    {
     "data": {
      "text/html": [
       "<div>\n",
       "<style scoped>\n",
       "    .dataframe tbody tr th:only-of-type {\n",
       "        vertical-align: middle;\n",
       "    }\n",
       "\n",
       "    .dataframe tbody tr th {\n",
       "        vertical-align: top;\n",
       "    }\n",
       "\n",
       "    .dataframe thead th {\n",
       "        text-align: right;\n",
       "    }\n",
       "</style>\n",
       "<table border=\"1\" class=\"dataframe\">\n",
       "  <thead>\n",
       "    <tr style=\"text-align: right;\">\n",
       "      <th></th>\n",
       "      <th>name</th>\n",
       "      <th>population</th>\n",
       "      <th>area</th>\n",
       "    </tr>\n",
       "  </thead>\n",
       "  <tbody>\n",
       "    <tr>\n",
       "      <th>0</th>\n",
       "      <td>AFG</td>\n",
       "      <td>25500100</td>\n",
       "      <td>652230</td>\n",
       "    </tr>\n",
       "    <tr>\n",
       "      <th>2</th>\n",
       "      <td>ALG</td>\n",
       "      <td>37100000</td>\n",
       "      <td>2381741</td>\n",
       "    </tr>\n",
       "  </tbody>\n",
       "</table>\n",
       "</div>"
      ],
      "text/plain": [
       "  name  population     area\n",
       "0  AFG    25500100   652230\n",
       "2  ALG    37100000  2381741"
      ]
     },
     "execution_count": 60,
     "metadata": {},
     "output_type": "execute_result"
    }
   ],
   "source": [
    "import pandas as pd\n",
    "\n",
    "def big_countries(world: pd.DataFrame) -> pd.DataFrame:\n",
    "    return world.loc[(world[\"area\"] >= 3000000) | (world[\"population\"] >= 25000000), ['name', \"population\", \"area\"]]\n",
    "\n",
    "#Test case:\n",
    "name = ['AFG', 'ALB', 'ALG', 'AND', 'ANG']\n",
    "continent = ['Asia', 'Europe', 'Africa', 'Europe', 'Africa']\n",
    "area = [652230, 28748, 2381741, 468, 1246700]\n",
    "population = [25500100, 2831741, 37100000, 78115, 20609294]\n",
    "gdp = [20343000000, 12960000000, 188681000000, 3712000000, 100990000000]\n",
    "world_ls = list(zip(name, continent, area, population, gdp))\n",
    "\n",
    "world_df = pd.DataFrame(world_ls, columns=['name', 'continent', 'area', 'population', 'gdp'])\n",
    "\n",
    "big_countries(world_df)"
   ]
  },
  {
   "cell_type": "markdown",
   "metadata": {},
   "source": [
    "#### Q2. Day 2: 1757. Recyclable and Low Fat Products\n",
    "\n",
    "-  Write a solution to find the ids of products that are both low fat and recyclable.\n",
    "\n",
    "-  Return the result table in any order."
   ]
  },
  {
   "cell_type": "code",
   "execution_count": 61,
   "metadata": {},
   "outputs": [
    {
     "data": {
      "text/html": [
       "<div>\n",
       "<style scoped>\n",
       "    .dataframe tbody tr th:only-of-type {\n",
       "        vertical-align: middle;\n",
       "    }\n",
       "\n",
       "    .dataframe tbody tr th {\n",
       "        vertical-align: top;\n",
       "    }\n",
       "\n",
       "    .dataframe thead th {\n",
       "        text-align: right;\n",
       "    }\n",
       "</style>\n",
       "<table border=\"1\" class=\"dataframe\">\n",
       "  <thead>\n",
       "    <tr style=\"text-align: right;\">\n",
       "      <th></th>\n",
       "      <th>product_id</th>\n",
       "    </tr>\n",
       "  </thead>\n",
       "  <tbody>\n",
       "    <tr>\n",
       "      <th>1</th>\n",
       "      <td>1</td>\n",
       "    </tr>\n",
       "    <tr>\n",
       "      <th>3</th>\n",
       "      <td>3</td>\n",
       "    </tr>\n",
       "  </tbody>\n",
       "</table>\n",
       "</div>"
      ],
      "text/plain": [
       "   product_id\n",
       "1           1\n",
       "3           3"
      ]
     },
     "execution_count": 61,
     "metadata": {},
     "output_type": "execute_result"
    }
   ],
   "source": [
    "import pandas as pd\n",
    "\n",
    "def find_products(products: pd.DataFrame) -> pd.DataFrame:\n",
    "    return products.loc[(products[\"low_fats\"] == 'Y') & (products[\"recyclable\"] == 'Y'), [\"product_id\"]]\n",
    "\n",
    "# Test case:\n",
    "product_id = range(0, 5)\n",
    "low_fats = ['Y', 'Y', 'N', 'Y', 'N']\n",
    "recyclable = ['N', 'Y', 'Y', 'Y', 'N']\n",
    "products = pd.DataFrame(list(zip(product_id, low_fats, recyclable)), columns=['product_id', 'low_fats', 'recyclable'])\n",
    "\n",
    "find_products(products)"
   ]
  },
  {
   "cell_type": "markdown",
   "metadata": {},
   "source": [
    "#### Q3. Day 3: 183. Customers Who Never Order\n",
    "\n",
    "- Write a solution to find all customers who never order anything.\n",
    "\n",
    "- Return the result table in any order."
   ]
  },
  {
   "cell_type": "code",
   "execution_count": 87,
   "metadata": {},
   "outputs": [
    {
     "data": {
      "text/html": [
       "<div>\n",
       "<style scoped>\n",
       "    .dataframe tbody tr th:only-of-type {\n",
       "        vertical-align: middle;\n",
       "    }\n",
       "\n",
       "    .dataframe tbody tr th {\n",
       "        vertical-align: top;\n",
       "    }\n",
       "\n",
       "    .dataframe thead th {\n",
       "        text-align: right;\n",
       "    }\n",
       "</style>\n",
       "<table border=\"1\" class=\"dataframe\">\n",
       "  <thead>\n",
       "    <tr style=\"text-align: right;\">\n",
       "      <th></th>\n",
       "      <th>Customers</th>\n",
       "    </tr>\n",
       "  </thead>\n",
       "  <tbody>\n",
       "    <tr>\n",
       "      <th>1</th>\n",
       "      <td>Henry</td>\n",
       "    </tr>\n",
       "    <tr>\n",
       "      <th>3</th>\n",
       "      <td>Max</td>\n",
       "    </tr>\n",
       "  </tbody>\n",
       "</table>\n",
       "</div>"
      ],
      "text/plain": [
       "  Customers\n",
       "1     Henry\n",
       "3       Max"
      ]
     },
     "execution_count": 87,
     "metadata": {},
     "output_type": "execute_result"
    }
   ],
   "source": [
    "import pandas as pd\n",
    "\n",
    "def find_customers(customers: pd.DataFrame, orders: pd.DataFrame) -> pd.DataFrame:\n",
    "    df_merge = pd.merge(left=customers, right=orders, how=\"left\", left_on=[\"id\"], right_on=[\"customer_id\"])\n",
    "    return df_merge[df_merge[\"customer_id\"].isna()].rename(columns={\"name\": \"Customers\"}).loc[:, [\"Customers\"]]\n",
    "\n",
    "    # df = customers[~customers[\"id\"].isin(orders[\"customer_id\"])]    #We can also use pd.merge function left join\n",
    "    # return df[[\"name\"]].rename(columns={\"name\": \"Customers\"})\n",
    "\n",
    "# Test case:\n",
    "Customers_table = [[1, 'Joe'], [2, 'Henry'], [3, 'Sam'], [4, 'Max']]\n",
    "Orders_table = [[1, 3], [2, 1]]\n",
    "\n",
    "customers = pd.DataFrame(Customers_table, columns=['id', 'name'])\n",
    "orders = pd.DataFrame(Orders_table, columns=['id', 'customer_id'])\n",
    "\n",
    "find_customers(customers, orders)"
   ]
  },
  {
   "cell_type": "markdown",
   "metadata": {},
   "source": [
    "#### Q4, Day 4. 1148. Article Views I\n",
    "\n",
    "- Write a solution to find all the authors that viewed at least one of their own articles.\n",
    "\n",
    "- Return the result table sorted by id in ascending order."
   ]
  },
  {
   "cell_type": "code",
   "execution_count": 101,
   "metadata": {},
   "outputs": [
    {
     "data": {
      "text/html": [
       "<div>\n",
       "<style scoped>\n",
       "    .dataframe tbody tr th:only-of-type {\n",
       "        vertical-align: middle;\n",
       "    }\n",
       "\n",
       "    .dataframe tbody tr th {\n",
       "        vertical-align: top;\n",
       "    }\n",
       "\n",
       "    .dataframe thead th {\n",
       "        text-align: right;\n",
       "    }\n",
       "</style>\n",
       "<table border=\"1\" class=\"dataframe\">\n",
       "  <thead>\n",
       "    <tr style=\"text-align: right;\">\n",
       "      <th></th>\n",
       "      <th>id</th>\n",
       "    </tr>\n",
       "  </thead>\n",
       "  <tbody>\n",
       "    <tr>\n",
       "      <th>5</th>\n",
       "      <td>4</td>\n",
       "    </tr>\n",
       "    <tr>\n",
       "      <th>2</th>\n",
       "      <td>7</td>\n",
       "    </tr>\n",
       "  </tbody>\n",
       "</table>\n",
       "</div>"
      ],
      "text/plain": [
       "   id\n",
       "5   4\n",
       "2   7"
      ]
     },
     "execution_count": 101,
     "metadata": {},
     "output_type": "execute_result"
    }
   ],
   "source": [
    "import pandas as pd\n",
    "\n",
    "def article_views(views: pd.DataFrame) -> pd.DataFrame:\n",
    "    df = views.loc[views[\"author_id\"] == views[\"viewer_id\"], [\"author_id\"]]\n",
    "    df = df.sort_values(by=\"author_id\").drop_duplicates(subset=['author_id']).rename(columns={'author_id': 'id'})\n",
    "\n",
    "    return df\n",
    "\n",
    "# Test cases:\n",
    "article_id = [1, 1, 2, 2, 4, 3, 3]\n",
    "author_id = [3, 3, 7, 7, 7, 4, 4]\n",
    "viewer_id = [5, 6, 7, 6, 1, 4, 4]\n",
    "view_date = ['2019-08-01', '2019-08-02', '2019-08-01', '2019-08-02', '2019-07-22', '2019-07-21', '2019-07-21']\n",
    "\n",
    "views_table = list(zip(article_id, author_id, viewer_id, view_date))\n",
    "views = pd.DataFrame(views_table, columns=['article_id', 'author_id', 'viewer_id', 'view_date'])\n",
    "\n",
    "article_views(views)"
   ]
  },
  {
   "cell_type": "markdown",
   "metadata": {},
   "source": [
    "## String methods\n",
    "\n",
    "#### Q5. Day 5. 1683. Invalid Tweets\n",
    "\n",
    "- Write a solution to find the IDs of the invalid tweets. The tweet is invalid if the number of characters used in the content of the tweet is strictly greater than 15."
   ]
  },
  {
   "cell_type": "code",
   "execution_count": 20,
   "metadata": {},
   "outputs": [],
   "source": [
    "import pandas as pd\n",
    "\n",
    "def invalid_tweets(tweets: pd.DataFrame) -> pd.DataFrame:\n",
    "    pass\n",
    "\n",
    "#Test case:\n",
    "tweet_table = [[1, 'let us code'], [2, 'More than fifteen chars are here!']]\n",
    "tweets = pd.DataFrame(tweet_table, columns=['tweet_id', 'content'])\n",
    "\n",
    "invalid_tweets(tweets)"
   ]
  },
  {
   "cell_type": "markdown",
   "metadata": {},
   "source": [
    "#### Q6. Day 6. 1873. Calculate Special Bonus\n",
    "\n",
    "- Write a solution to calculate the bonus of each employee. The bonus of an employee is 100% of their salary if the ID of the employee is an odd number and the employee's name does not start with the character 'M'. The bonus of an employee is 0 otherwise.\n",
    "\n",
    "- Return the result table ordered by employee_id."
   ]
  },
  {
   "cell_type": "code",
   "execution_count": 21,
   "metadata": {},
   "outputs": [],
   "source": [
    "import pandas as pd\n",
    "\n",
    "def calculate_special_bonus(employees: pd.DataFrame) -> pd.DataFrame:\n",
    "    pass\n",
    "\n",
    "# Test case:\n",
    "employee_id = [2, 3, 7, 8, 9]\n",
    "name = ['Meir', 'Michael', 'Addilyn', 'Juan', 'Kannon']\n",
    "salary = [3000, 3800, 7400, 6100, 7700]\n",
    "\n",
    "employees = pd.DataFrame(list(zip(employee_id, name, salary)), columns=['employee_id', 'name', 'salary'])\n",
    "\n",
    "calculate_special_bonus(employees)"
   ]
  },
  {
   "cell_type": "markdown",
   "metadata": {},
   "source": [
    "#### Q7. Day 7. 1667. Fix Names in a Table\n",
    "\n",
    "- Write a solution to fix the names so that only the first character is uppercase and the rest are lowercase.\n",
    "\n",
    "- Return the result table ordered by user_id."
   ]
  },
  {
   "cell_type": "code",
   "execution_count": 22,
   "metadata": {},
   "outputs": [],
   "source": [
    "import pandas as pd\n",
    "\n",
    "def fix_names(users: pd.DataFrame) -> pd.DataFrame:\n",
    "    pass\n",
    "\n",
    "# Test case:\n",
    "users_table = [[1, 'aLice'], [2, 'bOB']]\n",
    "users = pd.DataFrame(users_table, columns=['user_id', 'name'])\n",
    "\n",
    "fix_names(users)"
   ]
  },
  {
   "cell_type": "markdown",
   "metadata": {},
   "source": [
    "#### Q8. Day 8. 1517. Find Users With Valid E-Mails\n",
    "\n",
    "- Write a solution to find the users who have valid emails.\n",
    "\n",
    "- A valid e-mail has a prefix name and a domain where:\n",
    "\n",
    "- The prefix name is a string that may contain letters (upper or lower case), digits, underscore '_', period '.', and/or dash '-'. The prefix name must start with a letter.\n",
    "- The domain is '@leetcode.com'.\n",
    "- Return the result table in any order."
   ]
  },
  {
   "cell_type": "code",
   "execution_count": 23,
   "metadata": {},
   "outputs": [],
   "source": [
    "import pandas as pd\n",
    "\n",
    "def valid_emails(users: pd.DataFrame) -> pd.DataFrame:\n",
    "    pass\n",
    "\n",
    "#Test case:\n",
    "user_id = [1, 2, 3, 4, 5, 6, 7]\n",
    "name = ['Winston', 'Jonathan', 'Annabelle', 'Sally', 'Marwan', 'David', 'Shapiro']\n",
    "mail = ['winston@leetcode.com', 'jonathanisgreat', 'bella-@leetcode.com', 'sally.come@leetcode.com', 'quaraz#2020@leetcode.com', 'david69@leetcode.com', '.shapo@leetcode.com']\n",
    "\n",
    "users_table = list(zip(user_id, name, mail))\n",
    "users = pd.DataFrame(users_table, columns=['user_id', 'name', 'mail'])\n",
    "\n",
    "valid_emails(users)"
   ]
  },
  {
   "cell_type": "markdown",
   "metadata": {},
   "source": [
    "#### Q9. Day 9. 1527. Patients With a Condition\n",
    "\n",
    "- Write a solution to find the patient_id, patient_name, and conditions of the patients who have Type I Diabetes. Type I Diabetes always starts with DIAB1 prefix.\n",
    "\n",
    "- Return the result table in any order."
   ]
  },
  {
   "cell_type": "code",
   "execution_count": 24,
   "metadata": {},
   "outputs": [],
   "source": [
    "import pandas as pd\n",
    "\n",
    "def find_patients(patients: pd.DataFrame) -> pd.DataFrame:\n",
    "    pass\n",
    "\n",
    "# Test case:\n",
    "patient_id = [1, 2, 3, 4, 5]\n",
    "patient_name = ['Daniel', 'Alice', 'Bob', 'George', 'Alain']\n",
    "conditions = ['YFEV COUGH', None, 'DIAB100 MYOP', 'ACNE DIAB100', 'DIAB201']\n",
    "\n",
    "patients_table = list(zip(patient_id, patient_name, conditions))\n",
    "patients = pd.DataFrame(patients_table, columns=['patient_id', 'patient_name', 'conditions'])\n",
    "\n",
    "find_patients(patients)"
   ]
  },
  {
   "cell_type": "markdown",
   "metadata": {},
   "source": [
    "#### Q10. Day 10. "
   ]
  },
  {
   "cell_type": "markdown",
   "metadata": {},
   "source": []
  },
  {
   "cell_type": "markdown",
   "metadata": {},
   "source": [
    "## Data Manipulation\n",
    "\n",
    "#### Q11. Day 11. 177. Nth Highest Salary\n",
    "\n",
    "- Write a solution to find the nth highest salary from the Employee table. If there is no nth highest salary, return null."
   ]
  },
  {
   "cell_type": "code",
   "execution_count": 27,
   "metadata": {},
   "outputs": [],
   "source": [
    "import pandas as pd\n",
    "\n",
    "def nth_highest_salary(employee: pd.DataFrame, N: int) -> pd.DataFrame:\n",
    "    pass\n",
    "\n",
    "# Test case 1:\n",
    "employees_table = [[1, 100], [2, 200], [3, 300]]\n",
    "employee = pd.DataFrame(employees_table, columns=['id', 'salary'])\n",
    "\n",
    "nth_highest_salary(employee, 2)"
   ]
  },
  {
   "cell_type": "code",
   "execution_count": 31,
   "metadata": {},
   "outputs": [],
   "source": [
    "# Test case 2:\n",
    "employees_table = [[1, 100]]\n",
    "employee = pd.DataFrame(employees_table, columns=['id', 'salary'])\n",
    "\n",
    "nth_highest_salary(employee, 2)"
   ]
  },
  {
   "cell_type": "markdown",
   "metadata": {},
   "source": [
    "#### Q12. Day 12. 176. Second Highest Salary\n",
    "\n",
    "- Write a solution to find the second highest distinct salary from the Employee table. If there is no second highest salary, return null (return None in Pandas)."
   ]
  },
  {
   "cell_type": "code",
   "execution_count": 32,
   "metadata": {},
   "outputs": [],
   "source": [
    "import pandas as pd\n",
    "\n",
    "def second_highest_salary(employee: pd.DataFrame) -> pd.DataFrame:\n",
    "    pass\n",
    "\n",
    "# Test case 1:\n",
    "employees_table = [[1, 100], [2, 200], [3, 300]]\n",
    "employee = pd.DataFrame(employees_table, columns=['id', 'salary'])\n",
    "\n",
    "second_highest_salary(employee)"
   ]
  },
  {
   "cell_type": "code",
   "execution_count": 34,
   "metadata": {},
   "outputs": [],
   "source": [
    "\n",
    "employees_table = [[1, 100]]\n",
    "employee = pd.DataFrame(employees_table, columns=['id', 'salary'])\n",
    "\n",
    "second_highest_salary(employee)"
   ]
  },
  {
   "cell_type": "markdown",
   "metadata": {},
   "source": [
    "#### Q13. Day 13: 184. Department Highest Salary\n",
    "\n",
    "- Write a solution to find employees who have the highest salary in each of the departments.\n",
    "\n",
    "- Return the result table in any order."
   ]
  },
  {
   "cell_type": "code",
   "execution_count": 35,
   "metadata": {},
   "outputs": [],
   "source": [
    "import pandas as pd\n",
    "\n",
    "def department_highest_salary(employee: pd.DataFrame, department: pd.DataFrame) -> pd.DataFrame:\n",
    "    pass\n",
    "\n",
    "# Test case:\n",
    "id = [1, 2, 3, 4, 5]\n",
    "name = ['Joe', 'Jim', 'Henry', 'Sam', 'Max']\n",
    "salary = [70000, 90000, 80000, 60000, 90000]\n",
    "departmentId = [1, 1, 2, 2, 1]\n",
    "employees_table = list(zip(id, name, salary, departmentId))\n",
    "employee = pd.DataFrame(employees_table, columns=['id', 'name', 'salary', 'departmentId'])\n",
    "\n",
    "department_table = [[1, 'IT'], [2, 'Sales']]\n",
    "department = pd.DataFrame(department_table, columns=['id', 'name'])\n",
    "\n",
    "department_highest_salary(employee, department)"
   ]
  },
  {
   "cell_type": "markdown",
   "metadata": {},
   "source": [
    "#### Q14. Day 14: 178. Rank Scores\n",
    "\n",
    "- Write a solution to find the rank of the scores. The ranking should be calculated according to the following rules:\n",
    "\n",
    "    - The scores should be ranked from the highest to the lowest.\n",
    "    - If there is a tie between two scores, both should have the same ranking.\n",
    "    - After a tie, the next ranking number should be the next consecutive integer value. In other words, there should be no holes between ranks.\n",
    "- Return the result table ordered by score in descending order."
   ]
  },
  {
   "cell_type": "code",
   "execution_count": 36,
   "metadata": {},
   "outputs": [],
   "source": [
    "import pandas as pd\n",
    "\n",
    "def order_scores(scores: pd.DataFrame) -> pd.DataFrame:\n",
    "    pass\n",
    "\n",
    "#Test case:\n",
    "id = [1, 2, 3, 4, 5, 6]\n",
    "score = [3.50, 3.65, 4.00, 3.85, 4.00, 3.65]\n",
    "scores = pd.DataFrame(list(zip(id, score)), columns=['id', 'score'])\n",
    "\n",
    "order_scores(scores)"
   ]
  },
  {
   "cell_type": "markdown",
   "metadata": {},
   "source": [
    "#### Q15. Day 15: 196. Delete Duplicate Emails\n",
    "\n",
    "Write a solution to delete all duplicate emails, keeping only one unique email with the smallest id.\n",
    "\n",
    "For SQL users, please note that you are supposed to write a DELETE statement and not a SELECT one.\n",
    "\n",
    "For Pandas users, please note that you are supposed to modify Person in place.\n",
    "\n",
    "After running your script, the answer shown is the Person table. The driver will first compile and run your piece of code and then show the Person table. The final order of the Person table does not matter."
   ]
  },
  {
   "cell_type": "code",
   "execution_count": 37,
   "metadata": {},
   "outputs": [],
   "source": [
    "import pandas as pd\n",
    "\n",
    "def delete_duplicate_emails(person: pd.DataFrame) -> None:\n",
    "    pass\n",
    "\n",
    "# Test case:\n",
    "id = [1, 2, 3]\n",
    "email = ['john@example.com', 'bob@example.com', 'john@@example.com']\n",
    "person_table = list(zip(id, email))\n",
    "person = pd.DataFrame(person_table, columns=['id', 'email'])\n",
    "\n",
    "delete_duplicate_emails(person)"
   ]
  },
  {
   "cell_type": "markdown",
   "metadata": {},
   "source": [
    "#### Q16. Day 16: 1795. Rearrange Products Table\n",
    "\n",
    "- Write a solution to rearrange the Products table so that each row has (product_id, store, price). If a product is not available in a store, do not include a row with that product_id and store combination in the result table.\n",
    "\n",
    "- Return the result table in any order."
   ]
  },
  {
   "cell_type": "code",
   "execution_count": 38,
   "metadata": {},
   "outputs": [],
   "source": [
    "import pandas as pd\n",
    "\n",
    "def rearrange_products_table(products: pd.DataFrame) -> pd.DataFrame:\n",
    "    pass\n",
    "\n",
    "products_table = [[0, 95, 100, 105], [1, 70, None, 80]]\n",
    "products = pd.DataFrame(products_table)\n",
    "\n",
    "rearrange_products_table(products)"
   ]
  },
  {
   "cell_type": "markdown",
   "metadata": {},
   "source": [
    "## Statistics\n",
    "\n",
    "#### Q17. Day 17: \n",
    "#### Q18. Day 18:\n",
    "#### Q19. Day 19:\n",
    "#### Q20. Day 20:"
   ]
  },
  {
   "cell_type": "markdown",
   "metadata": {},
   "source": [
    "## Data Aggregation\n",
    "\n",
    "#### Q21. Day 21: 1741. Find Total Time Spent by Each Employee\n",
    "\n",
    "- Write a solution to calculate the total time in minutes spent by each employee on each day at the office. Note that within one day, an employee can enter and leave more than once. The time spent in the office for a single entry is out_time - in_time.\n",
    "\n",
    "Return the result table in any order."
   ]
  },
  {
   "cell_type": "code",
   "execution_count": 39,
   "metadata": {},
   "outputs": [],
   "source": [
    "import pandas as pd\n",
    "\n",
    "def total_time(employees: pd.DataFrame) -> pd.DataFrame:\n",
    "    pass\n",
    "\n",
    "# Test case:\n",
    "emp_id = [1, 1, 1, 2, 2]\n",
    "event_day = ['2020-11-28', '2020-11-28', '2020-12-03', '2020-11-28', '2020-12-09']\n",
    "in_time = [4, 55, 1, 3, 47]\n",
    "out_time = [32, 200, 42, 33, 74]\n",
    "employees_table = list(zip(emp_id, event_day, in_time, out_time))\n",
    "employees = pd.DataFrame(employees_table, columns=['emp_id', 'event_day', 'in_time', 'out_time'])\n",
    "\n",
    "total_time(employees)"
   ]
  },
  {
   "cell_type": "markdown",
   "metadata": {},
   "source": [
    "#### Q22. Day 22: 511. Game Play Analysis I\n",
    "\n",
    "- Write a solution to find the first login date for each player.\n",
    "\n",
    "- Return the result table in any order."
   ]
  },
  {
   "cell_type": "code",
   "execution_count": 41,
   "metadata": {},
   "outputs": [],
   "source": [
    "import pandas as pd\n",
    "\n",
    "def game_analysis(activity: pd.DataFrame) -> pd.DataFrame:\n",
    "    pass\n",
    "\n",
    "# Test case:\n",
    "player_id = [1, 1, 2, 2, 3]\n",
    "device_id = [2, 2, 3, 1, 4]\n",
    "event_date = ['2016-03-01', '2016-05-02', '2017-06-25', '2016-03-02', '2016-07-03']\n",
    "games_played = [5, 6, 1, 0, 5]\n",
    "activity_table = list(zip(player_id, device_id, event_date, games_played))\n",
    "activity = pd.DataFrame(activity_table, columns=['player_id', 'device_id', 'event_date', 'games_played'])\n",
    "\n",
    "game_analysis(activity)"
   ]
  },
  {
   "cell_type": "markdown",
   "metadata": {},
   "source": [
    "#### Q23. Day 23: 2356. Number of Unique Subjects Taught by Each Teacher\n",
    "\n",
    "- Write a solution to calculate the number of unique subjects each teacher teaches in the university.\n",
    "\n",
    "- Return the result table in any order."
   ]
  },
  {
   "cell_type": "code",
   "execution_count": 42,
   "metadata": {},
   "outputs": [],
   "source": [
    "import pandas as pd\n",
    "\n",
    "def count_unique_subjects(teacher: pd.DataFrame) -> pd.DataFrame:\n",
    "    pass\n",
    "\n",
    "teacher_id = [1, 1, 1, 2, 2, 2, 2]\n",
    "subject_id = [2, 2, 3, 1, 2, 3, 4]\n",
    "dept_id = [3, 4, 3, 1, 1, 1, 1]\n",
    "teacher_table = list(zip(teacher_id, subject_id, dept_id))\n",
    "teacher = pd.DataFrame(teacher_table, columns=['teacher_id', 'subject_id', 'dept_id'])\n",
    "\n",
    "count_unique_subjects(teacher)"
   ]
  },
  {
   "cell_type": "markdown",
   "metadata": {},
   "source": [
    "#### Q24. Day 24: 596. Classes More Than 5 Students\n",
    "\n",
    "- Write a solution to find all the classes that have at least five students.\n",
    "\n",
    "- Return the result table in any order."
   ]
  },
  {
   "cell_type": "code",
   "execution_count": 44,
   "metadata": {},
   "outputs": [],
   "source": [
    "import pandas as pd\n",
    "\n",
    "def find_classes(courses: pd.DataFrame) -> pd.DataFrame:\n",
    "    pass\n",
    "\n",
    "# Test case:\n",
    "student = ['A', \"B\", \"C\", \"D\", \"E\", \"F\", \"G\", \"H\", \"I\"]\n",
    "class_temp = ['Math', 'English', 'Math', 'Biology', 'Math', 'Computer', 'Math', 'Math', 'Math']\n",
    "course_table = list(zip(student, class_temp))\n",
    "\n",
    "courses = pd.DataFrame(course_table, columns=['student', 'class'])\n",
    "\n",
    "find_classes(courses)"
   ]
  },
  {
   "cell_type": "markdown",
   "metadata": {},
   "source": [
    "#### Q25. Day 25: 586. Customer Placing the Largest Number of Orders\n",
    "\n",
    "- Write a solution to find the customer_number for the customer who has placed the largest number of orders.\n",
    "\n",
    "- The test cases are generated so that exactly one customer will have placed more orders than any other customer."
   ]
  },
  {
   "cell_type": "code",
   "execution_count": 45,
   "metadata": {},
   "outputs": [],
   "source": [
    "import pandas as pd\n",
    "\n",
    "def largest_orders(orders: pd.DataFrame) -> pd.DataFrame:\n",
    "    pass\n",
    "\n",
    "# Test case:\n",
    "orders_table = [[1, 1], [2, 2], [3, 3], [4, 3]]\n",
    "orders = pd.DataFrame(orders_table, columns=['order_number', 'customer_number'])\n",
    "\n",
    "largest_orders(orders)"
   ]
  },
  {
   "cell_type": "markdown",
   "metadata": {},
   "source": [
    "#### Q26. Day 26: 1484. Group Sold Products By The Date\n",
    "\n",
    "- Write a solution to find for each date the number of different products sold and their names.\n",
    "\n",
    "- The sold products names for each date should be sorted lexicographically.\n",
    "\n",
    "- Return the result table ordered by sell_date."
   ]
  },
  {
   "cell_type": "code",
   "execution_count": 47,
   "metadata": {},
   "outputs": [],
   "source": [
    "import pandas as pd\n",
    "\n",
    "def categorize_products(activities: pd.DataFrame) -> pd.DataFrame:\n",
    "    pass\n",
    "\n",
    "# Test case:\n",
    "sell_date = ['2020-05-30', '2020-06-01', '2020-06-02', '2020-05-30', '2020-06-01', '2020-06-02', '2020-05-30']\n",
    "product = ['Headphone', 'Pencil', 'Mask', 'Basketball', 'Bible', 'Mask', 'T-Shirt']\n",
    "activites = pd.DataFrame(list(zip(sell_date, product)), columns=['sell_date', 'product'])\n",
    "\n",
    "categorize_products(activites)"
   ]
  },
  {
   "cell_type": "markdown",
   "metadata": {},
   "source": [
    "#### Q27. Day 27. 1693. Daily Leads and Partners\n",
    "\n",
    "- For each date_id and make_name, find the number of distinct lead_id's and distinct partner_id's.\n",
    "\n",
    "- Return the result table in any order."
   ]
  },
  {
   "cell_type": "code",
   "execution_count": 49,
   "metadata": {},
   "outputs": [],
   "source": [
    "import pandas as pd\n",
    "\n",
    "def daily_leads_and_partners(daily_sales: pd.DataFrame) -> pd.DataFrame:\n",
    "    pass\n",
    "\n",
    "# Test case:\n",
    "date_id = ['2020-12-8', '2020-12-8', '2020-12-8', '2020-12-7', '2020-12-7', '2020-12-8', '2020-12-8', '2020-12-7', '2020-12-7', '2020-12-7']\n",
    "make_name = ['toyota', 'toyota', 'toyota', 'toyota', 'toyota', 'honda', 'honda', 'honda', 'honda', 'honda']\n",
    "lead_id = [0, 1, 1, 0, 0, 1, 2, 0, 1, 2]\n",
    "partner_id = [1, 0, 2, 2, 1, 2, 1, 1, 2, 1]\n",
    "daily_sales_table = list(zip(date_id, make_name, lead_id, partner_id))\n",
    "\n",
    "daily_sales = pd.DataFrame(daily_sales_table, columns=['date_id', 'make_name', 'lead_id', 'partner_id'])\n",
    "\n",
    "daily_leads_and_partners(daily_sales)"
   ]
  },
  {
   "cell_type": "markdown",
   "metadata": {},
   "source": [
    "## Data Integration\n",
    "\n",
    "#### Q28. Day 28: 1050. Actors and Directors Who Cooperated At Least Three Times\n",
    "\n",
    "Write a solution to find all the pairs (actor_id, director_id) where the actor has cooperated with the director at least three times.\n",
    "\n",
    "Return the result table in any order."
   ]
  },
  {
   "cell_type": "code",
   "execution_count": 50,
   "metadata": {},
   "outputs": [],
   "source": [
    "import pandas as pd\n",
    "\n",
    "def actors_and_directors(actor_director: pd.DataFrame) -> pd.DataFrame:\n",
    "    pass\n",
    "\n",
    "#Test case:\n",
    "actor_id = [1, 1, 1, 1, 1, 2, 2]\n",
    "director_id = [1, 1, 1, 2, 2, 1, 1]\n",
    "timestamp = [0, 1, 2, 3, 4, 5, 6]\n",
    "ad_table = list(zip(actor_id, director_id, timestamp))\n",
    "\n",
    "actor_director = pd.DataFrame(ad_table, columns=['actor_id', 'director_id', 'timestampe'])\n",
    "\n",
    "actors_and_directors(actor_director)"
   ]
  },
  {
   "cell_type": "markdown",
   "metadata": {},
   "source": [
    "#### Q29. Day 29: 1378. Replace Employee ID With The Unique Identifier\n",
    "\n",
    "Write a solution to show the unique ID of each user, If a user does not have a unique ID replace just show null.\n",
    "\n",
    "Return the result table in any order."
   ]
  },
  {
   "cell_type": "code",
   "execution_count": 51,
   "metadata": {},
   "outputs": [],
   "source": [
    "import pandas as pd\n",
    "\n",
    "def replace_employee_id(employees: pd.DataFrame, employee_uni: pd.DataFrame) -> pd.DataFrame:\n",
    "    pass\n",
    "\n",
    "# Test case:\n",
    "emp_table = [[1, 'Alice'], [7, 'Bob'], [11, 'Meir'], [90, 'Winston'], [3, 'Jonathan']]\n",
    "empUNI = [[3, 1], [11, 2], [90, 3]]\n",
    "employees = pd.DataFrame(emp_table, columns=['id', 'name'])\n",
    "employeeUNI = pd.DataFrame(empUNI, columns=['id', 'unique_id'])\n",
    "\n",
    "replace_employee_id(employees, employeeUNI)"
   ]
  },
  {
   "cell_type": "markdown",
   "metadata": {},
   "source": [
    "#### Q30. Day 30: 1280. Students and Examinations\n",
    "\n",
    "Write a solution to find the number of times each student attended each exam.\n",
    "\n",
    "Return the result table ordered by student_id and subject_name."
   ]
  },
  {
   "cell_type": "code",
   "execution_count": 53,
   "metadata": {},
   "outputs": [],
   "source": [
    "import pandas as pd\n",
    "\n",
    "def students_and_examinations(students: pd.DataFrame, subjects: pd.DataFrame, examinations: pd.DataFrame) -> pd.DataFrame:\n",
    "    pass\n",
    "\n",
    "#Test case:\n",
    "Students_table = [[1, 'Alice'], [2, 'Bob'], [13, 'John'], [6, 'Alex']]\n",
    "students = pd.DataFrame(Students_table, columns=['student_id', 'student_name'])\n",
    "\n",
    "subject_name_table = ['Maths', 'Physics', 'Programming']\n",
    "subjects = pd.DataFrame(subject_name_table, columns=['subject_name'])\n",
    "\n",
    "# Creating examinations table and then dataframe\n",
    "student_id = [1, 1, 1, 2, 1, 1, 13, 13, 13, 2, 1]\n",
    "subject_name = ['Math', 'Physics', 'Programming', 'Programming', 'Physics', 'Math', 'Math', 'Programming', 'Physics', 'Math', 'Math']\n",
    "examinations_table = list(zip(student_id, subject_name))\n",
    "examinations = pd.DataFrame(examinations_table, columns=['student_id', 'subject_name'])\n",
    "\n",
    "students_and_examinations(students, subjects, examinations)"
   ]
  },
  {
   "cell_type": "markdown",
   "metadata": {},
   "source": [
    "#### Q31. Day 31: 570. Managers with at Least 5 Direct Reports\n",
    "\n",
    "Write a solution to find managers with at least five direct reports.\n",
    "\n",
    "Return the result table in any order."
   ]
  },
  {
   "cell_type": "code",
   "execution_count": 55,
   "metadata": {},
   "outputs": [],
   "source": [
    "import pandas as pd\n",
    "\n",
    "def find_managers(employee: pd.DataFrame) -> pd.DataFrame:\n",
    "    pass\n",
    "\n",
    "# Test case:\n",
    "id = [101, 102, 103, 104, 105]\n",
    "name = ['John', 'Dan', 'James', 'Amy', 'Anne', 'Ron']\n",
    "department = ['A', 'A', 'A', 'A', 'A', 'B']\n",
    "managerId = [None, 101, 101, 101, 101, 101]\n",
    "\n",
    "employees_tabe = list(zip(id, name, department, managerId))\n",
    "employee = pd.DataFrame(employees_tabe, columns=['id', 'name', 'department', 'managerId'])\n",
    "\n",
    "find_managers(employee)"
   ]
  },
  {
   "cell_type": "markdown",
   "metadata": {},
   "source": [
    "#### Q32. Day 32: 607. Sales Person\n",
    "\n",
    "Write a solution to find the names of all the salespersons who did not have any orders related to the company with the name \"RED\".\n",
    "\n",
    "Return the result table in any order."
   ]
  },
  {
   "cell_type": "code",
   "execution_count": 57,
   "metadata": {},
   "outputs": [],
   "source": [
    "import pandas as pd\n",
    "\n",
    "def sales_person(sales_person: pd.DataFrame, company: pd.DataFrame, orders: pd.DataFrame) -> pd.DataFrame:\n",
    "    pass\n",
    "\n",
    "#Test case:\n",
    "## Creating sales table\n",
    "sales_id = range(1, 6)\n",
    "name = ['John', 'Amy', 'Mark', 'Pam', 'Alex']\n",
    "salary = [100000, 12000, 65000, 25000, 5000]\n",
    "commission_rate = [6, 5, 12, 25, 10]\n",
    "hire_date = ['4/1/2006', '5/1/2010', '12/25/2008', '1/1/2005', '2/3/2007']\n",
    "sales_person_table = list(zip(sales_id, name, salary, commission_rate, hire_date))\n",
    "sales_person_df = pd.DataFrame(sales_person_table, columns=['sales_id', 'name', 'salary', 'commission_date', 'hire_date'])\n",
    "\n",
    "## Creating Company table\n",
    "com_id = [1, 2, 3, 4]\n",
    "name = ['RED', 'ORANGE', 'YELLOW', 'GREEN']\n",
    "city = ['Boston', 'New York', 'Boston', 'Austin']\n",
    "company_table = list(zip(com_id, name, city))\n",
    "company = pd.DataFrame(company_table, columns=['com_id', 'name', 'city'])\n",
    "\n",
    "## Creating orders table\n",
    "order_id = [1, 2, 3, 4]\n",
    "order_date = ['1/1/2014', '2/1/2014', '3/1/2014', '4/1/2014']\n",
    "com_id = [3, 4, 1, 1]\n",
    "sales_id = [4, 5, 1, 4]\n",
    "amount = [10000, 5000, 50000, 25000]\n",
    "orders_table = list(zip(order_id, order_date, com_id, sales_id, amount))\n",
    "orders = pd.DataFrame(orders_table, columns=['order_id', 'order_date', 'com_id', 'sales_id', 'amount'])\n",
    "\n",
    "sales_person(sales_person_df, company, orders)"
   ]
  },
  {
   "cell_type": "markdown",
   "metadata": {},
   "source": [
    "#### Q33. Day 33: Accepted Candidates from the interview"
   ]
  },
  {
   "cell_type": "markdown",
   "metadata": {},
   "source": []
  }
 ],
 "metadata": {
  "kernelspec": {
   "display_name": "Python 3",
   "language": "python",
   "name": "python3"
  },
  "language_info": {
   "codemirror_mode": {
    "name": "ipython",
    "version": 3
   },
   "file_extension": ".py",
   "mimetype": "text/x-python",
   "name": "python",
   "nbconvert_exporter": "python",
   "pygments_lexer": "ipython3",
   "version": "3.10.12"
  }
 },
 "nbformat": 4,
 "nbformat_minor": 2
}
